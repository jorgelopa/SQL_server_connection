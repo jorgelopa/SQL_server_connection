{
 "cells": [
  {
   "cell_type": "code",
   "execution_count": 2,
   "metadata": {},
   "outputs": [],
   "source": [
    "# Cargamos las librerias necesarias para abrir canal ODBC y hacer queries directamente en lenguaje SQL.\n",
    "\n",
    "import pyodbc\n",
    "import pandas as pd"
   ]
  },
  {
   "cell_type": "code",
   "execution_count": 3,
   "metadata": {},
   "outputs": [
    {
     "data": {
      "text/plain": [
       "['SQL Server',\n",
       " 'SQL Server Native Client 11.0',\n",
       " 'SQL Server Native Client RDA 11.0',\n",
       " 'ODBC Driver 13 for SQL Server']"
      ]
     },
     "execution_count": 3,
     "metadata": {},
     "output_type": "execute_result"
    }
   ],
   "source": [
    "# Saber que DRIVER SQL existe en el equipo \n",
    "pyodbc.drivers()"
   ]
  },
  {
   "cell_type": "code",
   "execution_count": 4,
   "metadata": {},
   "outputs": [],
   "source": [
    "# Abrimos la conexión: \n",
    "# OJO!!! CAMBIAR LA CONEXION DEPENDIENDO EL ENTORNO.\n",
    "\n",
    "#Server type: Database Engine\n",
    "#Server name: (1)\n",
    "#Authentication: SQL Server Authentication\n",
    "# Login: (2)\n",
    "# Password: (3)\n",
    "\n",
    "connection = pyodbc.connect('DRIVER={ODBC Driver 13 for SQL Server};'\n",
    "                                'SERVER=SERVER_NAME;'#(1)#Sustituimos SERVER_NAME por el nombre del SERVIDOR.(Server name: en SQL Server)\n",
    "                                'DATABASE=DATABASE;' #Sustituimos DATABASE por el nombre de la BASE DE DATOS. \n",
    "                                'UID=USER;' #(2)Sustituimos USER por el USUARIO.  (Login: en SQL Server)\n",
    "                                'PWD=PASSWORD') #(3)Sustituimos PASSWORD por la CONTRASEÑA. (Password: en SQL Server)\n",
    "\n",
    "cursor = connection.cursor()"
   ]
  },
  {
   "cell_type": "code",
   "execution_count": 5,
   "metadata": {},
   "outputs": [],
   "source": [
    "#Creamos los objetos que contienen el contenido de las tablas y los nombres de columnas\n",
    "\n",
    "cursor.execute(\"\"\"select * from TABLE \"\"\") #Sustituimos TABLE por la TABLA o TABLAS que queramos ejecutar\n",
    "colnames = cursor.description #los nombres de las columnas\n",
    "first_row = cursor.fetchone() #sera la primera fila\n",
    "table = cursor.fetchall() #sera toda la tabla menos la primera fila. I dont know why "
   ]
  },
  {
   "cell_type": "code",
   "execution_count": 6,
   "metadata": {},
   "outputs": [],
   "source": [
    "# Creamos una lista que vamos rellenando con los registros tomados de la BBDD.\n",
    "# Luego lo convertimos en DataFrame.\n",
    "\n",
    "columns_list = []\n",
    "for k in colnames:\n",
    "    new_column = k[0]\n",
    "    columns_list.append(new_column.upper()) # Hasta aqui hemos extraido el nombree de las columanas par añadirlas despues.\n",
    "\n",
    "first_row = [list(first_row)] \n",
    "for k in table:\n",
    "    first_row.append(list(k)) # Generamos una lista de listas con todos los registros. \n",
    "                              #'First_row' es el primer registro y 'table' la tabla completa menos el primer registro.\n",
    "    \n",
    "df_standar =pd.DataFrame(first_row, columns = columns_list) #Convertimos todo en DF\n",
    "\n",
    "connection.close() #Cerramos la conexion"
   ]
  },
  {
   "cell_type": "code",
   "execution_count": null,
   "metadata": {},
   "outputs": [],
   "source": [
    "# More info:\n",
    "# https://www.themonkeylearning.com/2018/04/extrayendo-el-dato-de-raiz-desde-la.html"
   ]
  },
  {
   "cell_type": "code",
   "execution_count": null,
   "metadata": {},
   "outputs": [],
   "source": []
  },
  {
   "cell_type": "code",
   "execution_count": null,
   "metadata": {},
   "outputs": [],
   "source": []
  },
  {
   "cell_type": "code",
   "execution_count": null,
   "metadata": {},
   "outputs": [],
   "source": []
  },
  {
   "cell_type": "code",
   "execution_count": null,
   "metadata": {},
   "outputs": [],
   "source": []
  },
  {
   "cell_type": "code",
   "execution_count": null,
   "metadata": {},
   "outputs": [],
   "source": []
  },
  {
   "cell_type": "code",
   "execution_count": null,
   "metadata": {},
   "outputs": [],
   "source": []
  },
  {
   "cell_type": "code",
   "execution_count": null,
   "metadata": {},
   "outputs": [],
   "source": []
  },
  {
   "cell_type": "code",
   "execution_count": null,
   "metadata": {},
   "outputs": [],
   "source": []
  },
  {
   "cell_type": "code",
   "execution_count": null,
   "metadata": {},
   "outputs": [],
   "source": []
  }
 ],
 "metadata": {
  "kernelspec": {
   "display_name": "Python 3",
   "language": "python",
   "name": "python3"
  },
  "language_info": {
   "codemirror_mode": {
    "name": "ipython",
    "version": 3
   },
   "file_extension": ".py",
   "mimetype": "text/x-python",
   "name": "python",
   "nbconvert_exporter": "python",
   "pygments_lexer": "ipython3",
   "version": "3.6.4"
  }
 },
 "nbformat": 4,
 "nbformat_minor": 2
}
